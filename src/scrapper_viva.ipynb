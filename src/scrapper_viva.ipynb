{
 "cells": [
  {
   "cell_type": "code",
   "execution_count": 1,
   "id": "85f21f0b-3c5d-454e-b17b-5ba2bc649362",
   "metadata": {},
   "outputs": [],
   "source": [
    "from selenium import webdriver\n",
    "from bs4 import BeautifulSoup\n",
    "import pandas as pd\n",
    "import requests\n",
    "import time\n",
    "import re\n",
    "import numpy as np\n",
    "import json"
   ]
  },
  {
   "cell_type": "code",
   "execution_count": 18,
   "id": "c7005570-d3bb-4688-8815-131c55ac4591",
   "metadata": {},
   "outputs": [
    {
     "name": "stdout",
     "output_type": "stream",
     "text": [
      "CPU times: user 6.16 s, sys: 254 ms, total: 6.42 s\n",
      "Wall time: 1min 55s\n"
     ]
    }
   ],
   "source": [
    "%%time\n",
    "df_final = pd.DataFrame()\n",
    "for i in range(0, 49): #2074\n",
    "    if i == 0:\n",
    "        URL = 'https://www.vivanuncios.com.mx/s-departamentos-en-venta/roma-norte/v1c1294l13669p1'\n",
    "    else:\n",
    "        URL = f'https://www.vivanuncios.com.mx/s-departamentos-en-venta/roma-norte/page-{i+1}/v1c1294l13669p{i+1}'\n",
    "    \n",
    "    page = requests.get(URL)\n",
    "    soup = BeautifulSoup(page.content, 'html.parser')\n",
    "    results = soup.find_all(\"div\", {\"class\": \"tileV2\"})\n",
    "    \n",
    "    \n",
    "    links = list()\n",
    "    for i in range(0, len(results)):\n",
    "        link = results[i].find_all(\"a\", {\"class\": \"href-link tile-title-text\"})[0]['href']\n",
    "        links.append(link)\n",
    "        \n",
    "    temp = pd.DataFrame(links, columns=['link'])\n",
    "    \n",
    "    df_final = pd.concat([df_final, temp])\n",
    "    time.sleep(1)\n"
   ]
  },
  {
   "cell_type": "code",
   "execution_count": 19,
   "id": "7c86868c-a9e4-43c8-8f93-3055ae9530e5",
   "metadata": {},
   "outputs": [],
   "source": [
    "df_final.to_csv('../data/raw/scrapper_viva_main.csv', index=False)"
   ]
  },
  {
   "cell_type": "code",
   "execution_count": 21,
   "id": "4bedb04d-5e07-4032-ad23-90e17665d667",
   "metadata": {},
   "outputs": [],
   "source": [
    "df_final = df_final.reset_index(drop=True)"
   ]
  },
  {
   "cell_type": "code",
   "execution_count": 22,
   "id": "502bffc7-8762-46b1-92e0-a7f3bddb07ab",
   "metadata": {},
   "outputs": [],
   "source": [
    "df_final['id'] = 1\n",
    "df_final['id'] = df_final['id'].cumsum()"
   ]
  },
  {
   "cell_type": "code",
   "execution_count": 23,
   "id": "8ccad22b-9ecc-45d6-af3f-92c0f438cc0f",
   "metadata": {},
   "outputs": [
    {
     "data": {
      "text/html": [
       "<div>\n",
       "<style scoped>\n",
       "    .dataframe tbody tr th:only-of-type {\n",
       "        vertical-align: middle;\n",
       "    }\n",
       "\n",
       "    .dataframe tbody tr th {\n",
       "        vertical-align: top;\n",
       "    }\n",
       "\n",
       "    .dataframe thead th {\n",
       "        text-align: right;\n",
       "    }\n",
       "</style>\n",
       "<table border=\"1\" class=\"dataframe\">\n",
       "  <thead>\n",
       "    <tr style=\"text-align: right;\">\n",
       "      <th></th>\n",
       "      <th>link</th>\n",
       "      <th>id</th>\n",
       "    </tr>\n",
       "  </thead>\n",
       "  <tbody>\n",
       "    <tr>\n",
       "      <th>0</th>\n",
       "      <td>/d-desarrollo-prisma/5bfecd44e4b09ae2809ee141</td>\n",
       "      <td>1</td>\n",
       "    </tr>\n",
       "  </tbody>\n",
       "</table>\n",
       "</div>"
      ],
      "text/plain": [
       "                                            link  id\n",
       "0  /d-desarrollo-prisma/5bfecd44e4b09ae2809ee141   1"
      ]
     },
     "execution_count": 23,
     "metadata": {},
     "output_type": "execute_result"
    }
   ],
   "source": [
    "df_final.head(1)"
   ]
  },
  {
   "cell_type": "code",
   "execution_count": 77,
   "id": "ed01a8d8-8407-441b-a790-81970d95b8fd",
   "metadata": {},
   "outputs": [
    {
     "data": {
      "text/html": [
       "<div>\n",
       "<style scoped>\n",
       "    .dataframe tbody tr th:only-of-type {\n",
       "        vertical-align: middle;\n",
       "    }\n",
       "\n",
       "    .dataframe tbody tr th {\n",
       "        vertical-align: top;\n",
       "    }\n",
       "\n",
       "    .dataframe thead th {\n",
       "        text-align: right;\n",
       "    }\n",
       "</style>\n",
       "<table border=\"1\" class=\"dataframe\">\n",
       "  <thead>\n",
       "    <tr style=\"text-align: right;\">\n",
       "      <th></th>\n",
       "      <th>link</th>\n",
       "      <th>id</th>\n",
       "    </tr>\n",
       "  </thead>\n",
       "  <tbody>\n",
       "    <tr>\n",
       "      <th>0</th>\n",
       "      <td>/d-desarrollo-prisma/5bfecd44e4b09ae2809ee141</td>\n",
       "      <td>1</td>\n",
       "    </tr>\n",
       "  </tbody>\n",
       "</table>\n",
       "</div>"
      ],
      "text/plain": [
       "                                            link  id\n",
       "0  /d-desarrollo-prisma/5bfecd44e4b09ae2809ee141   1"
      ]
     },
     "execution_count": 77,
     "metadata": {},
     "output_type": "execute_result"
    }
   ],
   "source": [
    "df_final.head(1)"
   ]
  },
  {
   "cell_type": "code",
   "execution_count": 83,
   "id": "c2257bfc-770d-44c5-8d2d-ff8601501a14",
   "metadata": {},
   "outputs": [
    {
     "data": {
      "text/plain": [
       "1"
      ]
     },
     "execution_count": 83,
     "metadata": {},
     "output_type": "execute_result"
    }
   ],
   "source": [
    "df_final['id'][i]"
   ]
  },
  {
   "cell_type": "code",
   "execution_count": 134,
   "id": "53c82625-2dff-462a-b958-e4673d459d35",
   "metadata": {},
   "outputs": [
    {
     "data": {
      "text/plain": [
       "1103"
      ]
     },
     "execution_count": 134,
     "metadata": {},
     "output_type": "execute_result"
    }
   ],
   "source": [
    "len(df_final)"
   ]
  },
  {
   "cell_type": "code",
   "execution_count": 188,
   "id": "04e57f98-b61f-476f-acaf-cecc63c495ae",
   "metadata": {},
   "outputs": [
    {
     "name": "stdout",
     "output_type": "stream",
     "text": [
      "CPU times: user 2min 2s, sys: 3.85 s, total: 2min 6s\n",
      "Wall time: 30min 25s\n"
     ]
    }
   ],
   "source": [
    "%%time\n",
    "attributes_table = pd.DataFrame()\n",
    "characteristics = pd.DataFrame()\n",
    "for i in range(0, len(df_final)): #len(df_final)\n",
    "    try:\n",
    "        URL = 'https://www.vivanuncios.com.mx' + df_final['link'][i]\n",
    "        page = requests.get(URL)\n",
    "        soup = BeautifulSoup(page.content, 'html.parser')\n",
    "        \n",
    "        container = soup.find_all(\"div\", {\"class\": \"category\"})\n",
    "\n",
    "        for j in range(0, len(container)):\n",
    "\n",
    "            attribute_name = container[j].find_all(\"span\", \"pri-props-name\")[0].get_text()\n",
    "            attribute_value = container[j].find_all(\"span\", \"pri-props-value\")[0].get_text()\n",
    "\n",
    "            att_tmp = pd.DataFrame([df_final['id'][i]], columns=['id'])\n",
    "            att_tmp['attribute_name'] = attribute_name\n",
    "            att_tmp['attribute_value'] = attribute_value\n",
    "\n",
    "            attributes_table = pd.concat([attributes_table,att_tmp])\n",
    "\n",
    "\n",
    "        char_tmp = pd.DataFrame([df_final['id'][i]], columns=['id'])\n",
    "        \n",
    "        aa = soup.select_one(\"script[type='application/ld+json']\")\n",
    "        js = json.loads(aa.text) \n",
    "        try:\n",
    "            price = js[0]['offers']['price']\n",
    "            char_tmp['price'] = price\n",
    "        except: char_tmp['price'] = np.nan\n",
    "        \n",
    "        try:\n",
    "            name = js[0]['name']\n",
    "            char_tmp['name'] = name\n",
    "        except: char_tmp['name'] = np.nan\n",
    "        \n",
    "        try:\n",
    "            lat = js[0]['geo']['latitude']\n",
    "            lon = js[0]['geo']['longitude']\n",
    "            char_tmp['lat'] = lat\n",
    "            char_tmp['lon'] = lon\n",
    "        except: \n",
    "            char_tmp['lat'] = np.nan\n",
    "            char_tmp['lon'] = np.nan\n",
    "\n",
    "        characteristics = pd.concat([characteristics,char_tmp])\n",
    "        time.sleep(1)\n",
    "    except: None"
   ]
  },
  {
   "cell_type": "code",
   "execution_count": 172,
   "id": "f5ca1422-a5fc-4863-9de9-e622011d9ca9",
   "metadata": {},
   "outputs": [],
   "source": []
  },
  {
   "cell_type": "code",
   "execution_count": 191,
   "id": "7b4dc83f-68ad-4018-9c83-1a28d8acded5",
   "metadata": {},
   "outputs": [],
   "source": [
    "characteristics.to_csv('../data/raw/scrapper_viva_chr.csv', index=False)\n",
    "attributes_table.to_csv('../data/raw/scrapper_viva_att.csv', index=False)"
   ]
  },
  {
   "cell_type": "markdown",
   "id": "a1af8525-ecc3-4606-8b2e-6f207175c7ba",
   "metadata": {},
   "source": [
    "# JOIN"
   ]
  },
  {
   "cell_type": "code",
   "execution_count": 193,
   "id": "7ddc0721-ad30-447e-83e1-49f9c68a8e2c",
   "metadata": {},
   "outputs": [],
   "source": [
    "table = pd.pivot_table(attributes_table, values='attribute_value', index=['id'],\n",
    "                    columns=['attribute_name'], \n",
    "                       aggfunc=lambda x: ' '.join(x)).reset_index()"
   ]
  },
  {
   "cell_type": "code",
   "execution_count": 194,
   "id": "ea4cdb2e-4cb9-49ae-892f-51465a118e96",
   "metadata": {},
   "outputs": [],
   "source": [
    "table = table[['id', 'Baños:', 'Metros Cuadrados:', 'Recámara(s):',\n",
    "               'Superficie Total:', 'Terreno:'\n",
    "              ]]"
   ]
  },
  {
   "cell_type": "code",
   "execution_count": 195,
   "id": "57984864-4df2-41a9-aece-c845b03285ed",
   "metadata": {},
   "outputs": [],
   "source": [
    "table = table.rename(columns={'Baños:':'Baños',\n",
    "                      'Metros Cuadrados:':'m2_totales',\n",
    "                      'Recámara(s):':'Recámaras',\n",
    "                      'Superficie Total:':'superficie',\n",
    "                      'Terreno:':'terreno',\n",
    "                     })"
   ]
  },
  {
   "cell_type": "code",
   "execution_count": 196,
   "id": "d93be081-450b-4117-bd31-eecd31cb81e6",
   "metadata": {},
   "outputs": [
    {
     "data": {
      "text/plain": [
       "730"
      ]
     },
     "execution_count": 196,
     "metadata": {},
     "output_type": "execute_result"
    }
   ],
   "source": [
    "len(characteristics)"
   ]
  },
  {
   "cell_type": "code",
   "execution_count": 246,
   "id": "e24a071f-7cb2-4667-b446-4ed49d685485",
   "metadata": {},
   "outputs": [],
   "source": [
    "characteristics_f = characteristics.merge(table, how='left', on='id')"
   ]
  },
  {
   "cell_type": "code",
   "execution_count": 247,
   "id": "8b2ded23-ad02-41ea-afb7-cd495c52e9ec",
   "metadata": {},
   "outputs": [
    {
     "data": {
      "text/plain": [
       "730"
      ]
     },
     "execution_count": 247,
     "metadata": {},
     "output_type": "execute_result"
    }
   ],
   "source": [
    "len(characteristics_f)"
   ]
  },
  {
   "cell_type": "code",
   "execution_count": 248,
   "id": "c0b370e1-9f64-4a67-a149-edb2c9f2057a",
   "metadata": {},
   "outputs": [
    {
     "data": {
      "text/plain": [
       "id              0\n",
       "price           0\n",
       "name            0\n",
       "lat             0\n",
       "lon             0\n",
       "Baños           4\n",
       "m2_totales    730\n",
       "Recámaras       0\n",
       "superficie    730\n",
       "terreno       342\n",
       "dtype: int64"
      ]
     },
     "execution_count": 248,
     "metadata": {},
     "output_type": "execute_result"
    }
   ],
   "source": [
    "characteristics_f.isna().sum()"
   ]
  },
  {
   "cell_type": "code",
   "execution_count": 249,
   "id": "96f41fe4-ad3d-432c-851a-6d771c431bcc",
   "metadata": {},
   "outputs": [],
   "source": [
    "characteristics_f['Recámaras'] = characteristics_f['Recámaras'].apply(lambda x: re.sub(\"[^0-9]\", \"\", str(x)))\n",
    "characteristics_f['Recámaras'] = characteristics_f['Recámaras'].astype(int)"
   ]
  },
  {
   "cell_type": "code",
   "execution_count": 250,
   "id": "52219f16-3c91-463a-b945-091a5098ab36",
   "metadata": {},
   "outputs": [],
   "source": [
    "characteristics_f['Baños'] = characteristics_f['Baños'].apply(lambda x: re.sub(\"[^0-9]\", \"\", str(x)))\n",
    "characteristics_f.loc[characteristics_f['Baños']==\"\", 'Baños'] = np.nan"
   ]
  },
  {
   "cell_type": "code",
   "execution_count": 251,
   "id": "5e1e8021-11ba-46bb-b18a-e5c5b61097d6",
   "metadata": {},
   "outputs": [],
   "source": [
    "characteristics_f['Baños'] = characteristics_f['Baños'].fillna(-1)\n",
    "characteristics_f['Baños'] = characteristics_f['Baños'].astype(int)"
   ]
  },
  {
   "cell_type": "code",
   "execution_count": 252,
   "id": "e35c8875-b234-4b94-b586-f8e4a9e64aad",
   "metadata": {},
   "outputs": [],
   "source": [
    "characteristics_f.loc[characteristics_f['Baños']==-1, 'Baños'] = np.nan"
   ]
  },
  {
   "cell_type": "code",
   "execution_count": 253,
   "id": "44e40827-4d91-4823-a082-a800158d09b8",
   "metadata": {},
   "outputs": [],
   "source": [
    "characteristics_f['terreno'] = characteristics_f['terreno'].apply(lambda x: str(x).split('m')[0])\n",
    "characteristics_f.loc[characteristics_f['terreno']==\"nan\", 'terreno'] = -1\n",
    "characteristics_f['terreno'] = characteristics_f['terreno'].astype(int)"
   ]
  },
  {
   "cell_type": "code",
   "execution_count": 254,
   "id": "e216c663-c03b-402c-aa7c-fa0c4a79c62f",
   "metadata": {},
   "outputs": [],
   "source": [
    "characteristics_f.loc[characteristics_f['terreno']==-1, 'terreno'] = np.nan"
   ]
  },
  {
   "cell_type": "code",
   "execution_count": 255,
   "id": "1d40bb6b-94a3-48fc-90f1-0ae76d77a149",
   "metadata": {},
   "outputs": [
    {
     "data": {
      "text/html": [
       "<div>\n",
       "<style scoped>\n",
       "    .dataframe tbody tr th:only-of-type {\n",
       "        vertical-align: middle;\n",
       "    }\n",
       "\n",
       "    .dataframe tbody tr th {\n",
       "        vertical-align: top;\n",
       "    }\n",
       "\n",
       "    .dataframe thead th {\n",
       "        text-align: right;\n",
       "    }\n",
       "</style>\n",
       "<table border=\"1\" class=\"dataframe\">\n",
       "  <thead>\n",
       "    <tr style=\"text-align: right;\">\n",
       "      <th></th>\n",
       "      <th>price</th>\n",
       "      <th>Recámaras</th>\n",
       "      <th>Baños</th>\n",
       "      <th>terreno</th>\n",
       "    </tr>\n",
       "  </thead>\n",
       "  <tbody>\n",
       "    <tr>\n",
       "      <th>price</th>\n",
       "      <td>1.000000</td>\n",
       "      <td>0.246131</td>\n",
       "      <td>0.475879</td>\n",
       "      <td>0.596648</td>\n",
       "    </tr>\n",
       "    <tr>\n",
       "      <th>Recámaras</th>\n",
       "      <td>0.246131</td>\n",
       "      <td>1.000000</td>\n",
       "      <td>0.618709</td>\n",
       "      <td>0.607578</td>\n",
       "    </tr>\n",
       "    <tr>\n",
       "      <th>Baños</th>\n",
       "      <td>0.475879</td>\n",
       "      <td>0.618709</td>\n",
       "      <td>1.000000</td>\n",
       "      <td>0.571975</td>\n",
       "    </tr>\n",
       "    <tr>\n",
       "      <th>terreno</th>\n",
       "      <td>0.596648</td>\n",
       "      <td>0.607578</td>\n",
       "      <td>0.571975</td>\n",
       "      <td>1.000000</td>\n",
       "    </tr>\n",
       "  </tbody>\n",
       "</table>\n",
       "</div>"
      ],
      "text/plain": [
       "              price  Recámaras     Baños   terreno\n",
       "price      1.000000   0.246131  0.475879  0.596648\n",
       "Recámaras  0.246131   1.000000  0.618709  0.607578\n",
       "Baños      0.475879   0.618709  1.000000  0.571975\n",
       "terreno    0.596648   0.607578  0.571975  1.000000"
      ]
     },
     "execution_count": 255,
     "metadata": {},
     "output_type": "execute_result"
    }
   ],
   "source": [
    "characteristics_f[['price', 'Recámaras', 'Baños', 'terreno']].corr()"
   ]
  },
  {
   "cell_type": "code",
   "execution_count": 256,
   "id": "27302e9b-5ab1-4234-84e7-5d21944ba3ac",
   "metadata": {},
   "outputs": [],
   "source": [
    "characteristics_f = characteristics_f.drop(columns=['m2_totales', 'superficie'])"
   ]
  },
  {
   "cell_type": "code",
   "execution_count": 257,
   "id": "d31adce7-f06b-4c87-90d1-201e363fb9d1",
   "metadata": {},
   "outputs": [
    {
     "data": {
      "text/html": [
       "<div>\n",
       "<style scoped>\n",
       "    .dataframe tbody tr th:only-of-type {\n",
       "        vertical-align: middle;\n",
       "    }\n",
       "\n",
       "    .dataframe tbody tr th {\n",
       "        vertical-align: top;\n",
       "    }\n",
       "\n",
       "    .dataframe thead th {\n",
       "        text-align: right;\n",
       "    }\n",
       "</style>\n",
       "<table border=\"1\" class=\"dataframe\">\n",
       "  <thead>\n",
       "    <tr style=\"text-align: right;\">\n",
       "      <th></th>\n",
       "      <th>id</th>\n",
       "      <th>price</th>\n",
       "      <th>name</th>\n",
       "      <th>lat</th>\n",
       "      <th>lon</th>\n",
       "      <th>Baños</th>\n",
       "      <th>Recámaras</th>\n",
       "      <th>terreno</th>\n",
       "    </tr>\n",
       "  </thead>\n",
       "  <tbody>\n",
       "    <tr>\n",
       "      <th>410</th>\n",
       "      <td>668</td>\n",
       "      <td>3425000</td>\n",
       "      <td>Departamento en Venta en Roma Norte, Cuahutemoc</td>\n",
       "      <td>19.42156</td>\n",
       "      <td>-99.17041</td>\n",
       "      <td>1.0</td>\n",
       "      <td>1</td>\n",
       "      <td>NaN</td>\n",
       "    </tr>\n",
       "  </tbody>\n",
       "</table>\n",
       "</div>"
      ],
      "text/plain": [
       "      id    price                                             name       lat  \\\n",
       "410  668  3425000  Departamento en Venta en Roma Norte, Cuahutemoc  19.42156   \n",
       "\n",
       "          lon  Baños  Recámaras  terreno  \n",
       "410 -99.17041    1.0          1      NaN  "
      ]
     },
     "execution_count": 257,
     "metadata": {},
     "output_type": "execute_result"
    }
   ],
   "source": [
    "characteristics_f.sample()"
   ]
  },
  {
   "cell_type": "code",
   "execution_count": 258,
   "id": "d40d4e3f-43b3-4189-be73-b8f0ec8f932f",
   "metadata": {},
   "outputs": [],
   "source": [
    "characteristics_f = characteristics_f.drop_duplicates(subset=['name',\n",
    "                                                             'lat', 'lon'\n",
    "                                                             ])"
   ]
  },
  {
   "cell_type": "code",
   "execution_count": 259,
   "id": "ab9bb95e-04e8-472b-8204-2696841dc9f9",
   "metadata": {},
   "outputs": [
    {
     "data": {
      "text/plain": [
       "635"
      ]
     },
     "execution_count": 259,
     "metadata": {},
     "output_type": "execute_result"
    }
   ],
   "source": [
    "len(characteristics_f)"
   ]
  },
  {
   "cell_type": "code",
   "execution_count": 261,
   "id": "3281cef9-5325-4d77-a6c0-28dbcc6da685",
   "metadata": {},
   "outputs": [],
   "source": [
    "characteristics_f.to_csv('../data/processed/scrapper_viva_data.csv', index=False)"
   ]
  },
  {
   "cell_type": "code",
   "execution_count": null,
   "id": "994f120a-83b3-4768-878f-0e9cee047932",
   "metadata": {},
   "outputs": [],
   "source": []
  }
 ],
 "metadata": {
  "kernelspec": {
   "display_name": "py39",
   "language": "python",
   "name": "py39"
  },
  "language_info": {
   "codemirror_mode": {
    "name": "ipython",
    "version": 3
   },
   "file_extension": ".py",
   "mimetype": "text/x-python",
   "name": "python",
   "nbconvert_exporter": "python",
   "pygments_lexer": "ipython3",
   "version": "3.9.7"
  }
 },
 "nbformat": 4,
 "nbformat_minor": 5
}
