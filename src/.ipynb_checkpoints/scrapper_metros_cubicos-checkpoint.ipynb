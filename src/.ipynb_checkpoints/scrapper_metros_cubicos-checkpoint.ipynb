{
 "cells": [
  {
   "cell_type": "code",
   "execution_count": 11,
   "metadata": {},
   "outputs": [],
   "source": [
    "from selenium import webdriver\n",
    "from bs4 import BeautifulSoup\n",
    "import pandas as pd\n",
    "import numpy as np\n",
    "import requests\n",
    "import time\n",
    "import re\n",
    "import json"
   ]
  },
  {
   "cell_type": "code",
   "execution_count": 145,
   "metadata": {},
   "outputs": [],
   "source": [
    "df_final = pd.DataFrame()\n",
    "for i in range(42): #2074\n",
    "    if i == 0:\n",
    "        URL = 'https://inmuebles.metroscubicos.com/roma-norte_NoIndex_True'\n",
    "    else:\n",
    "        first = 'https://inmuebles.metroscubicos.com/roma-norte_Desde_'\n",
    "        number = (48*i)+1\n",
    "        third = '_NoIndex_True'\n",
    "        URL = first + str(number) + third\n",
    "    \n",
    "    page = requests.get(URL)\n",
    "    soup = BeautifulSoup(page.content, 'html.parser')\n",
    "    results = soup.find_all(\"div\", {\"class\": \"ui-search-result__wrapper\"})\n",
    "    \n",
    "    all_temp = pd.DataFrame()\n",
    "    #Variables\n",
    "    for i in range(0, len(results)):\n",
    "        ##Attributes\n",
    "        att = results[i].find_all(\"div\", {\"class\": \"ui-search-item__group ui-search-item__group--attributes\"})\n",
    "        att_list = []\n",
    "        for j in range(0, len(att[0].find_all('li'))):\n",
    "            attribute = att[0].find_all('li')[j].get_text()\n",
    "            att_list.append(attribute)\n",
    "        \n",
    "        # Price\n",
    "        price = results[i].find_all(\"div\", {\"class\": \"ui-search-item__group ui-search-item__group--price\"})\n",
    "        price_tag = price[0].find_all('span',\"price-tag-text-sr-only\")[0].get_text()\n",
    "        \n",
    "        ##Address\n",
    "        location = results[i].find_all(\"div\", {\"class\": \"ui-search-item__group ui-search-item__group--location\"})\n",
    "        loc = location[0].find_all('span',\"ui-search-item__group__element ui-search-item__location\")[0].get_text()\n",
    "        \n",
    "        #Link\n",
    "        link = results[i].find_all(\"a\", {\"class\": \"ui-search-result__content ui-search-link\"})\n",
    "        link_final = link[0]['href']\n",
    "        \n",
    "        #Title\n",
    "        title = results[i].find_all(\"div\", {\"class\": \"ui-search-item__group ui-search-item__group--title\"})\n",
    "        sub = title[0].find_all('span',\"ui-search-item__group__element ui-search-item__subtitle\")[0].get_text()\n",
    "        main = title[0].find_all('h2',\"ui-search-item__title ui-search-item__group__element\")[0].get_text()\n",
    "        \n",
    "        temp = pd.DataFrame([main], columns=['main_name'])\n",
    "        temp['subtitle'] = sub\n",
    "        temp['link'] = link_final\n",
    "        temp['location'] = loc\n",
    "        temp['price'] = price_tag\n",
    "        temp['attributes'] = ','.join(att_list)\n",
    "        \n",
    "        all_temp = pd.concat([all_temp, temp])\n",
    "        \n",
    "    \n",
    "    df_final = pd.concat([df_final, all_temp])\n",
    "    time.sleep(1)"
   ]
  },
  {
   "cell_type": "code",
   "execution_count": 148,
   "metadata": {},
   "outputs": [],
   "source": [
    "df_final = df_final.reset_index(drop=True)"
   ]
  },
  {
   "cell_type": "code",
   "execution_count": 149,
   "metadata": {},
   "outputs": [
    {
     "data": {
      "text/plain": [
       "2016"
      ]
     },
     "execution_count": 149,
     "metadata": {},
     "output_type": "execute_result"
    }
   ],
   "source": [
    "len(df_final)"
   ]
  },
  {
   "cell_type": "code",
   "execution_count": 247,
   "metadata": {},
   "outputs": [],
   "source": [
    "df_final['id'] = 1\n",
    "df_final['id'] = df_final['id'].cumsum()"
   ]
  },
  {
   "cell_type": "code",
   "execution_count": 254,
   "metadata": {},
   "outputs": [],
   "source": [
    "attributes_table = pd.DataFrame()\n",
    "for i in range(0, len(df_final)): #len(df_final)\n",
    "    URL = df_final['link'][i]\n",
    "    page = requests.get(URL)\n",
    "    soup = BeautifulSoup(page.content, 'html.parser')\n",
    "    \n",
    "    #Full address\n",
    "    data = re.search(r'window\\.__PRELOADED_STATE__ = ({.*});', page.text).group(1)\n",
    "    data = json.loads(data)\n",
    "    \n",
    "    #Location\n",
    "    try:\n",
    "        lat = data['country']['geo_information']['location']['latitude']\n",
    "        lon = data['country']['geo_information']['location']['longitude']\n",
    "        df_final.loc[df_final.id==df_final['id'][i], 'lat'] = lat\n",
    "        df_final.loc[df_final.id==df_final['id'][i], 'lon'] = lon\n",
    "    except: None\n",
    "    \n",
    "    try:\n",
    "        address = data['initialState']['components']['location']['map_info']['item_address']\n",
    "        df_final.loc[df_final.id==df_final['id'][i], 'address'] = address\n",
    "    except: None\n",
    "        \n",
    "    #Publicacion\n",
    "    try:\n",
    "        since = data['initialState']['components']['short_description'][0]['bottom_subtitle']['text']\n",
    "        df_final.loc[df_final.id==df_final['id'][i], 'since'] = since\n",
    "    except: None\n",
    "    \n",
    "    \n",
    "    #Tabla atributos\n",
    "    try:\n",
    "        temp_df = pd.DataFrame(data['initialState']['components']['content_left'][1]['specs'][0]['attributes'])\n",
    "        temp_df['external_id'] = df_final['id'][i]\n",
    "\n",
    "        attributes_table = pd.concat([attributes_table, temp_df])\n",
    "    except: None\n",
    "    \n",
    "    time.sleep(1)\n",
    "    \n",
    "    df_final.to_csv('../data/raw/scrapper_metros_cubicos_enhanced.csv', index=False, sep='|')\n",
    "    attributes_table.to_csv('../data/raw/scrapper_metros_cubicos_attributes.csv', index=False)\n",
    "    "
   ]
  },
  {
   "cell_type": "code",
   "execution_count": 257,
   "metadata": {},
   "outputs": [],
   "source": [
    "df_final.to_csv('../data/scrapper_metros_cubicos_enhanced.csv', index=False, sep='|')"
   ]
  },
  {
   "cell_type": "code",
   "execution_count": 298,
   "metadata": {},
   "outputs": [],
   "source": [
    "attributes_table.to_csv('../data/raw/scrapper_metros_cubicos_attributes.csv', index=False)"
   ]
  },
  {
   "cell_type": "code",
   "execution_count": 294,
   "metadata": {},
   "outputs": [
    {
     "name": "stdout",
     "output_type": "stream",
     "text": [
      "CPU times: user 3min 22s, sys: 7.84 s, total: 3min 30s\n",
      "Wall time: 32min 30s\n"
     ]
    }
   ],
   "source": [
    "%%time\n",
    "coord_table = pd.DataFrame()\n",
    "for i in range(0, len(df_final)): #len(df_final)\n",
    "    URL = df_final['link'][i]\n",
    "    page = requests.get(URL)\n",
    "    soup = BeautifulSoup(page.content, 'html.parser')\n",
    "    \n",
    "    try:\n",
    "        results = soup.find_all(\"div\", {\"id\": \"ui-vip-location__map\"})\n",
    "        coord = str(results[0]).split('center=')[1].split('&amp')[0]\n",
    "\n",
    "        temp = pd.DataFrame([df_final.id[i]], columns=['id'])\n",
    "        temp['coords'] = coord\n",
    "\n",
    "        coord_table = pd.concat([coord_table, temp])\n",
    "    except: None\n"
   ]
  },
  {
   "cell_type": "code",
   "execution_count": 295,
   "metadata": {},
   "outputs": [],
   "source": [
    "coord_table.to_csv('../data/raw/scrapper_metros_cubicos_coords.csv', index=False)"
   ]
  },
  {
   "cell_type": "markdown",
   "metadata": {},
   "source": [
    "# JOIN"
   ]
  },
  {
   "cell_type": "code",
   "execution_count": 148,
   "metadata": {},
   "outputs": [],
   "source": [
    "att = pd.read_csv('../data/raw/scrapper_metros_cubicos_attributes.csv')\n",
    "coords = pd.read_csv('../data/raw/scrapper_metros_cubicos_coords.csv')\n",
    "df = pd.read_csv('../data/raw/scrapper_metros_cubicos_enhanced.csv', sep='|')"
   ]
  },
  {
   "cell_type": "markdown",
   "metadata": {},
   "source": [
    "## Transformación de variables"
   ]
  },
  {
   "cell_type": "code",
   "execution_count": 149,
   "metadata": {},
   "outputs": [],
   "source": [
    "# Conseguir coordenadas\n",
    "coords['lat'] = coords['coords'].apply(lambda x: str(x).split('%2C')[0])\n",
    "coords['lon'] = coords['coords'].apply(lambda x: str(x).split('%2C')[1])"
   ]
  },
  {
   "cell_type": "code",
   "execution_count": 150,
   "metadata": {},
   "outputs": [],
   "source": [
    "coords['lat'] = coords['lat'].astype(float)\n",
    "coords['lon'] = coords['lon'].astype(float)"
   ]
  },
  {
   "cell_type": "code",
   "execution_count": 151,
   "metadata": {},
   "outputs": [],
   "source": [
    "coords = coords.drop(columns=['coords'])"
   ]
  },
  {
   "cell_type": "code",
   "execution_count": 152,
   "metadata": {},
   "outputs": [],
   "source": [
    "#Modificar tabla principal\n",
    "df = df.drop(columns=['lat', 'lon'])"
   ]
  },
  {
   "cell_type": "code",
   "execution_count": 153,
   "metadata": {},
   "outputs": [],
   "source": [
    "df['price_mod'] = df['price'].apply(lambda x: str(x).split(' ')[0]).astype(float)\n",
    "df['price_currency'] = df['price'].apply(lambda x: str(x).split(' ')[1])"
   ]
  },
  {
   "cell_type": "code",
   "execution_count": 154,
   "metadata": {},
   "outputs": [
    {
     "data": {
      "text/plain": [
       "Departamento en venta          1256\n",
       "Oficina en renta                308\n",
       "Departamento en renta           165\n",
       "Casa en venta                    76\n",
       "Local comercial en renta         43\n",
       "Edificio en renta                38\n",
       "Oficina en venta                 37\n",
       "Edificio en venta                35\n",
       "Terreno en venta                 18\n",
       "Local comercial en venta         15\n",
       "Casa en renta                    13\n",
       "Otro inmueble en renta            3\n",
       "Bodega en venta                   3\n",
       "Bodega en renta                   3\n",
       "Terreno en renta                  1\n",
       "Cuarto en renta                   1\n",
       "Local comercial en traspaso       1\n",
       "Name: subtitle, dtype: int64"
      ]
     },
     "execution_count": 154,
     "metadata": {},
     "output_type": "execute_result"
    }
   ],
   "source": [
    "#Quedarnos con los conceptos que nos interesan\n",
    "df.subtitle.value_counts()"
   ]
  },
  {
   "cell_type": "code",
   "execution_count": 155,
   "metadata": {},
   "outputs": [],
   "source": [
    "df.loc[df.subtitle=='Departamento en venta', 'property_type'] = 'depto'\n",
    "df.loc[df.subtitle=='Departamento en venta', 'price_type'] = 'venta'\n",
    "\n",
    "df.loc[df.subtitle=='Departamento en renta', 'property_type'] = 'depto'\n",
    "df.loc[df.subtitle=='Departamento en renta', 'price_type'] = 'renta'\n",
    "\n",
    "df.loc[df.subtitle=='Casa en venta', 'property_type'] = 'casa'\n",
    "df.loc[df.subtitle=='Casa en venta', 'price_type'] = 'venta'\n",
    "\n",
    "df.loc[df.subtitle=='Casa en renta', 'property_type'] = 'casa'\n",
    "df.loc[df.subtitle=='Casa en renta', 'price_type'] = 'renta'"
   ]
  },
  {
   "cell_type": "code",
   "execution_count": 156,
   "metadata": {},
   "outputs": [],
   "source": [
    "def extract_number(x: str):\n",
    "    try: \n",
    "        number = re.findall(r'\\d+', str(x))[0]\n",
    "    except:\n",
    "        number = np.nan\n",
    "    return number"
   ]
  },
  {
   "cell_type": "code",
   "execution_count": 157,
   "metadata": {},
   "outputs": [],
   "source": [
    "#Días de publicación\n",
    "df['days_on_site'] = df['since'].apply(lambda x: extract_number(str(x)))"
   ]
  },
  {
   "cell_type": "code",
   "execution_count": 158,
   "metadata": {},
   "outputs": [
    {
     "data": {
      "text/html": [
       "<div>\n",
       "<style scoped>\n",
       "    .dataframe tbody tr th:only-of-type {\n",
       "        vertical-align: middle;\n",
       "    }\n",
       "\n",
       "    .dataframe tbody tr th {\n",
       "        vertical-align: top;\n",
       "    }\n",
       "\n",
       "    .dataframe thead th {\n",
       "        text-align: right;\n",
       "    }\n",
       "</style>\n",
       "<table border=\"1\" class=\"dataframe\">\n",
       "  <thead>\n",
       "    <tr style=\"text-align: right;\">\n",
       "      <th></th>\n",
       "      <th>main_name</th>\n",
       "      <th>subtitle</th>\n",
       "      <th>link</th>\n",
       "      <th>location</th>\n",
       "      <th>price</th>\n",
       "      <th>attributes</th>\n",
       "      <th>id</th>\n",
       "      <th>address</th>\n",
       "      <th>since</th>\n",
       "      <th>price_mod</th>\n",
       "      <th>price_currency</th>\n",
       "      <th>property_type</th>\n",
       "      <th>price_type</th>\n",
       "      <th>days_on_site</th>\n",
       "    </tr>\n",
       "  </thead>\n",
       "  <tbody>\n",
       "    <tr>\n",
       "      <th>0</th>\n",
       "      <td>Renta Departamento En Roma Norte</td>\n",
       "      <td>Departamento en renta</td>\n",
       "      <td>https://departamento.metroscubicos.com/MLM-137...</td>\n",
       "      <td>Av Chapultepec 322, Roma Norte, Ciudad De Méxi...</td>\n",
       "      <td>17500 pesos</td>\n",
       "      <td>85 m² construidos,2 recs.</td>\n",
       "      <td>1</td>\n",
       "      <td>Av Chapultepec 322, Roma Norte, Ciudad De Méxi...</td>\n",
       "      <td>Publicado hace 6 días</td>\n",
       "      <td>17500.0</td>\n",
       "      <td>pesos</td>\n",
       "      <td>depto</td>\n",
       "      <td>renta</td>\n",
       "      <td>6</td>\n",
       "    </tr>\n",
       "  </tbody>\n",
       "</table>\n",
       "</div>"
      ],
      "text/plain": [
       "                          main_name               subtitle  \\\n",
       "0  Renta Departamento En Roma Norte  Departamento en renta   \n",
       "\n",
       "                                                link  \\\n",
       "0  https://departamento.metroscubicos.com/MLM-137...   \n",
       "\n",
       "                                            location        price  \\\n",
       "0  Av Chapultepec 322, Roma Norte, Ciudad De Méxi...  17500 pesos   \n",
       "\n",
       "                  attributes  id  \\\n",
       "0  85 m² construidos,2 recs.   1   \n",
       "\n",
       "                                             address                  since  \\\n",
       "0  Av Chapultepec 322, Roma Norte, Ciudad De Méxi...  Publicado hace 6 días   \n",
       "\n",
       "   price_mod price_currency property_type price_type days_on_site  \n",
       "0    17500.0          pesos         depto      renta            6  "
      ]
     },
     "execution_count": 158,
     "metadata": {},
     "output_type": "execute_result"
    }
   ],
   "source": [
    "df.head(1)"
   ]
  },
  {
   "cell_type": "code",
   "execution_count": 159,
   "metadata": {},
   "outputs": [],
   "source": [
    "#Atributos\n",
    "att_p = pd.pivot_table(att, values='text', index=['external_id'],\n",
    "                    columns=['id'], \n",
    "                    aggfunc=lambda x: ' '.join(x)).reset_index()"
   ]
  },
  {
   "cell_type": "code",
   "execution_count": 160,
   "metadata": {},
   "outputs": [
    {
     "data": {
      "text/plain": [
       "Index(['external_id', 'Acceso', 'Admite mascotas', 'Ambientes', 'Antigüedad',\n",
       "       'Baños', 'Baños por piso', 'Bodegas', 'Cantidad de pisos',\n",
       "       'Cuota mensual de mantenimiento', 'Departamentos por piso',\n",
       "       'Disposición', 'Estacionamientos', 'Forma del terreno',\n",
       "       'Metros de fondo', 'Metros de frente', 'Número de oficinas',\n",
       "       'Número de piso de la unidad', 'Oficinas por piso', 'Orientación',\n",
       "       'Recámaras', 'Superficie construida', 'Superficie total',\n",
       "       'Tipo de casa', 'Tipo de departamento', 'Tipo de propiedad'],\n",
       "      dtype='object', name='id')"
      ]
     },
     "execution_count": 160,
     "metadata": {},
     "output_type": "execute_result"
    }
   ],
   "source": [
    "att_p.columns"
   ]
  },
  {
   "cell_type": "code",
   "execution_count": 161,
   "metadata": {},
   "outputs": [],
   "source": [
    "#Filtrar columnas que nos interesan\n",
    "filter_ = ['external_id', \n",
    "           'Superficie total', 'Antigüedad', 'Baños',\n",
    "           'Estacionamientos', 'Recámaras', 'Superficie construida'\n",
    "          ]"
   ]
  },
  {
   "cell_type": "code",
   "execution_count": 162,
   "metadata": {},
   "outputs": [],
   "source": [
    "att_p = att_p[filter_]"
   ]
  },
  {
   "cell_type": "code",
   "execution_count": 163,
   "metadata": {},
   "outputs": [],
   "source": [
    "att_p = att_p.copy()"
   ]
  },
  {
   "cell_type": "code",
   "execution_count": 164,
   "metadata": {},
   "outputs": [],
   "source": [
    "att_p['Superficie total'] = att_p['Superficie total'].fillna('0 ')\n",
    "att_p['m2_totales'] = att_p['Superficie total'].apply(lambda x: str(x).split(' ')[0]).astype(float)"
   ]
  },
  {
   "cell_type": "code",
   "execution_count": 165,
   "metadata": {},
   "outputs": [],
   "source": [
    "att_p['Superficie construida'] = att_p['Superficie construida'].fillna('0 ')\n",
    "att_p['m2_construidos'] = att_p['Superficie construida'].apply(lambda x: str(x).split(' ')[0]).astype(float)"
   ]
  },
  {
   "cell_type": "code",
   "execution_count": 166,
   "metadata": {},
   "outputs": [],
   "source": [
    "att_p['Antigüedad'] = att_p['Antigüedad'].fillna('0 ')\n",
    "att_p['years'] = att_p['Antigüedad'].apply(lambda x: str(x).split(' ')[0]).astype(float)"
   ]
  },
  {
   "cell_type": "code",
   "execution_count": 167,
   "metadata": {},
   "outputs": [],
   "source": [
    "att_p = att_p.drop(columns=['Superficie total', 'Antigüedad',\n",
    "                            'Superficie construida'])"
   ]
  },
  {
   "cell_type": "code",
   "execution_count": 168,
   "metadata": {},
   "outputs": [
    {
     "data": {
      "text/html": [
       "<div>\n",
       "<style scoped>\n",
       "    .dataframe tbody tr th:only-of-type {\n",
       "        vertical-align: middle;\n",
       "    }\n",
       "\n",
       "    .dataframe tbody tr th {\n",
       "        vertical-align: top;\n",
       "    }\n",
       "\n",
       "    .dataframe thead th {\n",
       "        text-align: right;\n",
       "    }\n",
       "</style>\n",
       "<table border=\"1\" class=\"dataframe\">\n",
       "  <thead>\n",
       "    <tr style=\"text-align: right;\">\n",
       "      <th>id</th>\n",
       "      <th>external_id</th>\n",
       "      <th>Baños</th>\n",
       "      <th>Estacionamientos</th>\n",
       "      <th>Recámaras</th>\n",
       "      <th>m2_totales</th>\n",
       "      <th>m2_construidos</th>\n",
       "      <th>years</th>\n",
       "    </tr>\n",
       "  </thead>\n",
       "  <tbody>\n",
       "    <tr>\n",
       "      <th>0</th>\n",
       "      <td>1</td>\n",
       "      <td>2</td>\n",
       "      <td>1</td>\n",
       "      <td>2</td>\n",
       "      <td>85.0</td>\n",
       "      <td>85.0</td>\n",
       "      <td>1.0</td>\n",
       "    </tr>\n",
       "  </tbody>\n",
       "</table>\n",
       "</div>"
      ],
      "text/plain": [
       "id  external_id Baños Estacionamientos Recámaras  m2_totales  m2_construidos  \\\n",
       "0             1     2                1         2        85.0            85.0   \n",
       "\n",
       "id  years  \n",
       "0     1.0  "
      ]
     },
     "execution_count": 168,
     "metadata": {},
     "output_type": "execute_result"
    }
   ],
   "source": [
    "att_p.head(1)"
   ]
  },
  {
   "cell_type": "markdown",
   "metadata": {},
   "source": [
    "## Unir tablas"
   ]
  },
  {
   "cell_type": "code",
   "execution_count": 169,
   "metadata": {},
   "outputs": [
    {
     "data": {
      "text/plain": [
       "2016"
      ]
     },
     "execution_count": 169,
     "metadata": {},
     "output_type": "execute_result"
    }
   ],
   "source": [
    "len(df)"
   ]
  },
  {
   "cell_type": "code",
   "execution_count": 170,
   "metadata": {},
   "outputs": [],
   "source": [
    "df_final = df.merge(coords, on='id', how='left') "
   ]
  },
  {
   "cell_type": "code",
   "execution_count": 171,
   "metadata": {},
   "outputs": [
    {
     "data": {
      "text/plain": [
       "2016"
      ]
     },
     "execution_count": 171,
     "metadata": {},
     "output_type": "execute_result"
    }
   ],
   "source": [
    "len(df_final)"
   ]
  },
  {
   "cell_type": "code",
   "execution_count": 172,
   "metadata": {},
   "outputs": [
    {
     "data": {
      "text/html": [
       "<div>\n",
       "<style scoped>\n",
       "    .dataframe tbody tr th:only-of-type {\n",
       "        vertical-align: middle;\n",
       "    }\n",
       "\n",
       "    .dataframe tbody tr th {\n",
       "        vertical-align: top;\n",
       "    }\n",
       "\n",
       "    .dataframe thead th {\n",
       "        text-align: right;\n",
       "    }\n",
       "</style>\n",
       "<table border=\"1\" class=\"dataframe\">\n",
       "  <thead>\n",
       "    <tr style=\"text-align: right;\">\n",
       "      <th>id</th>\n",
       "      <th>external_id</th>\n",
       "      <th>Baños</th>\n",
       "      <th>Estacionamientos</th>\n",
       "      <th>Recámaras</th>\n",
       "      <th>m2_totales</th>\n",
       "      <th>m2_construidos</th>\n",
       "      <th>years</th>\n",
       "    </tr>\n",
       "  </thead>\n",
       "  <tbody>\n",
       "    <tr>\n",
       "      <th>0</th>\n",
       "      <td>1</td>\n",
       "      <td>2</td>\n",
       "      <td>1</td>\n",
       "      <td>2</td>\n",
       "      <td>85.0</td>\n",
       "      <td>85.0</td>\n",
       "      <td>1.0</td>\n",
       "    </tr>\n",
       "  </tbody>\n",
       "</table>\n",
       "</div>"
      ],
      "text/plain": [
       "id  external_id Baños Estacionamientos Recámaras  m2_totales  m2_construidos  \\\n",
       "0             1     2                1         2        85.0            85.0   \n",
       "\n",
       "id  years  \n",
       "0     1.0  "
      ]
     },
     "execution_count": 172,
     "metadata": {},
     "output_type": "execute_result"
    }
   ],
   "source": [
    "att_p.head(1)"
   ]
  },
  {
   "cell_type": "code",
   "execution_count": 173,
   "metadata": {},
   "outputs": [],
   "source": [
    "att_p = att_p.rename(columns={'external_id':'id'})\n",
    "df_final = df_final.merge(att_p, on='id', how='left') "
   ]
  },
  {
   "cell_type": "code",
   "execution_count": 174,
   "metadata": {},
   "outputs": [
    {
     "data": {
      "text/plain": [
       "2016"
      ]
     },
     "execution_count": 174,
     "metadata": {},
     "output_type": "execute_result"
    }
   ],
   "source": [
    "len(df_final)"
   ]
  },
  {
   "cell_type": "code",
   "execution_count": 175,
   "metadata": {},
   "outputs": [
    {
     "data": {
      "text/html": [
       "<div>\n",
       "<style scoped>\n",
       "    .dataframe tbody tr th:only-of-type {\n",
       "        vertical-align: middle;\n",
       "    }\n",
       "\n",
       "    .dataframe tbody tr th {\n",
       "        vertical-align: top;\n",
       "    }\n",
       "\n",
       "    .dataframe thead th {\n",
       "        text-align: right;\n",
       "    }\n",
       "</style>\n",
       "<table border=\"1\" class=\"dataframe\">\n",
       "  <thead>\n",
       "    <tr style=\"text-align: right;\">\n",
       "      <th></th>\n",
       "      <th>main_name</th>\n",
       "      <th>subtitle</th>\n",
       "      <th>link</th>\n",
       "      <th>location</th>\n",
       "      <th>price</th>\n",
       "      <th>attributes</th>\n",
       "      <th>id</th>\n",
       "      <th>address</th>\n",
       "      <th>since</th>\n",
       "      <th>price_mod</th>\n",
       "      <th>...</th>\n",
       "      <th>price_type</th>\n",
       "      <th>days_on_site</th>\n",
       "      <th>lat</th>\n",
       "      <th>lon</th>\n",
       "      <th>Baños</th>\n",
       "      <th>Estacionamientos</th>\n",
       "      <th>Recámaras</th>\n",
       "      <th>m2_totales</th>\n",
       "      <th>m2_construidos</th>\n",
       "      <th>years</th>\n",
       "    </tr>\n",
       "  </thead>\n",
       "  <tbody>\n",
       "    <tr>\n",
       "      <th>0</th>\n",
       "      <td>Renta Departamento En Roma Norte</td>\n",
       "      <td>Departamento en renta</td>\n",
       "      <td>https://departamento.metroscubicos.com/MLM-137...</td>\n",
       "      <td>Av Chapultepec 322, Roma Norte, Ciudad De Méxi...</td>\n",
       "      <td>17500 pesos</td>\n",
       "      <td>85 m² construidos,2 recs.</td>\n",
       "      <td>1</td>\n",
       "      <td>Av Chapultepec 322, Roma Norte, Ciudad De Méxi...</td>\n",
       "      <td>Publicado hace 6 días</td>\n",
       "      <td>17500.0</td>\n",
       "      <td>...</td>\n",
       "      <td>renta</td>\n",
       "      <td>6</td>\n",
       "      <td>19.422992</td>\n",
       "      <td>-99.164232</td>\n",
       "      <td>2</td>\n",
       "      <td>1</td>\n",
       "      <td>2</td>\n",
       "      <td>85.0</td>\n",
       "      <td>85.0</td>\n",
       "      <td>1.0</td>\n",
       "    </tr>\n",
       "  </tbody>\n",
       "</table>\n",
       "<p>1 rows × 22 columns</p>\n",
       "</div>"
      ],
      "text/plain": [
       "                          main_name               subtitle  \\\n",
       "0  Renta Departamento En Roma Norte  Departamento en renta   \n",
       "\n",
       "                                                link  \\\n",
       "0  https://departamento.metroscubicos.com/MLM-137...   \n",
       "\n",
       "                                            location        price  \\\n",
       "0  Av Chapultepec 322, Roma Norte, Ciudad De Méxi...  17500 pesos   \n",
       "\n",
       "                  attributes  id  \\\n",
       "0  85 m² construidos,2 recs.   1   \n",
       "\n",
       "                                             address                  since  \\\n",
       "0  Av Chapultepec 322, Roma Norte, Ciudad De Méxi...  Publicado hace 6 días   \n",
       "\n",
       "   price_mod  ... price_type days_on_site        lat        lon  Baños  \\\n",
       "0    17500.0  ...      renta            6  19.422992 -99.164232      2   \n",
       "\n",
       "   Estacionamientos Recámaras m2_totales m2_construidos  years  \n",
       "0                 1         2       85.0           85.0    1.0  \n",
       "\n",
       "[1 rows x 22 columns]"
      ]
     },
     "execution_count": 175,
     "metadata": {},
     "output_type": "execute_result"
    }
   ],
   "source": [
    "df_final.head(1)"
   ]
  },
  {
   "cell_type": "code",
   "execution_count": 176,
   "metadata": {},
   "outputs": [],
   "source": [
    "# Quedarnos con los tipos que nos interesan\n",
    "df_final = df_final.dropna(subset=['price_type'])"
   ]
  },
  {
   "cell_type": "code",
   "execution_count": 177,
   "metadata": {},
   "outputs": [
    {
     "data": {
      "text/plain": [
       "1510"
      ]
     },
     "execution_count": 177,
     "metadata": {},
     "output_type": "execute_result"
    }
   ],
   "source": [
    "len(df_final)"
   ]
  },
  {
   "cell_type": "code",
   "execution_count": 178,
   "metadata": {},
   "outputs": [],
   "source": [
    "df_final = df_final.drop(columns=['price', 'attributes',\n",
    "                                  'address', 'since',\n",
    "                                 ])"
   ]
  },
  {
   "cell_type": "code",
   "execution_count": 179,
   "metadata": {},
   "outputs": [
    {
     "data": {
      "text/plain": [
       "main_name             0\n",
       "subtitle              0\n",
       "link                  0\n",
       "location              0\n",
       "id                    0\n",
       "price_mod             0\n",
       "price_currency        0\n",
       "property_type         0\n",
       "price_type            0\n",
       "days_on_site        218\n",
       "lat                  26\n",
       "lon                  26\n",
       "Baños                17\n",
       "Estacionamientos    344\n",
       "Recámaras            26\n",
       "m2_totales            3\n",
       "m2_construidos        3\n",
       "years                 3\n",
       "dtype: int64"
      ]
     },
     "execution_count": 179,
     "metadata": {},
     "output_type": "execute_result"
    }
   ],
   "source": [
    "df_final.isna().sum()"
   ]
  },
  {
   "cell_type": "code",
   "execution_count": 180,
   "metadata": {},
   "outputs": [],
   "source": [
    "df_final['price_final'] = df_final['price_mod']\n",
    "df_final.loc[df_final.price_currency=='dólares', \n",
    "             'price_final'] = df_final['price_mod']*20"
   ]
  },
  {
   "cell_type": "code",
   "execution_count": 181,
   "metadata": {},
   "outputs": [],
   "source": [
    "#Guardar\n",
    "df_final.to_csv('../data/processed/metros_cubicos_data.csv', index=False)"
   ]
  },
  {
   "cell_type": "code",
   "execution_count": 41,
   "metadata": {},
   "outputs": [],
   "source": []
  }
 ],
 "metadata": {
  "kernelspec": {
   "display_name": "py39",
   "language": "python",
   "name": "py39"
  },
  "language_info": {
   "codemirror_mode": {
    "name": "ipython",
    "version": 3
   },
   "file_extension": ".py",
   "mimetype": "text/x-python",
   "name": "python",
   "nbconvert_exporter": "python",
   "pygments_lexer": "ipython3",
   "version": "3.9.7"
  }
 },
 "nbformat": 4,
 "nbformat_minor": 4
}
