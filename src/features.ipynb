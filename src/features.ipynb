{
 "cells": [
  {
   "cell_type": "code",
   "execution_count": 4,
   "id": "4698750d-a175-4a29-a57f-b1690f404b7a",
   "metadata": {},
   "outputs": [],
   "source": [
    "import pandas as pd\n",
    "import numpy as np\n",
    "\n",
    "pd.set_option('display.max_columns', 500)"
   ]
  },
  {
   "cell_type": "markdown",
   "id": "1be25e9c-9113-4ce3-87c8-c37adc56c0f4",
   "metadata": {},
   "source": [
    "# Data"
   ]
  },
  {
   "cell_type": "code",
   "execution_count": 97,
   "id": "d3d67cba-2efa-4d72-8298-11ed163d9256",
   "metadata": {},
   "outputs": [],
   "source": [
    "df = pd.read_csv('../data/processed/final_dataset_v2.csv')"
   ]
  },
  {
   "cell_type": "code",
   "execution_count": 98,
   "id": "931c8079-9262-46d5-9d48-f5ebadfdb844",
   "metadata": {},
   "outputs": [
    {
     "data": {
      "text/html": [
       "<div>\n",
       "<style scoped>\n",
       "    .dataframe tbody tr th:only-of-type {\n",
       "        vertical-align: middle;\n",
       "    }\n",
       "\n",
       "    .dataframe tbody tr th {\n",
       "        vertical-align: top;\n",
       "    }\n",
       "\n",
       "    .dataframe thead th {\n",
       "        text-align: right;\n",
       "    }\n",
       "</style>\n",
       "<table border=\"1\" class=\"dataframe\">\n",
       "  <thead>\n",
       "    <tr style=\"text-align: right;\">\n",
       "      <th></th>\n",
       "      <th>main_name</th>\n",
       "      <th>location</th>\n",
       "      <th>id</th>\n",
       "      <th>property_type</th>\n",
       "      <th>price_type</th>\n",
       "      <th>days_on_site</th>\n",
       "      <th>lat</th>\n",
       "      <th>lon</th>\n",
       "      <th>Baños</th>\n",
       "      <th>Estacionamientos</th>\n",
       "      <th>Recámaras</th>\n",
       "      <th>m2_totales</th>\n",
       "      <th>m2_construidos</th>\n",
       "      <th>years</th>\n",
       "      <th>price_final</th>\n",
       "      <th>source</th>\n",
       "      <th>geometry</th>\n",
       "      <th>index_right</th>\n",
       "      <th>CVEGEO</th>\n",
       "      <th>CVE_ENT</th>\n",
       "      <th>CVE_MUN</th>\n",
       "      <th>CVE_LOC</th>\n",
       "      <th>CVE_AGEB</th>\n",
       "      <th>Ambito</th>\n",
       "      <th>new_id</th>\n",
       "      <th>num_comercios</th>\n",
       "      <th>is_consultorio</th>\n",
       "      <th>is_recreativo</th>\n",
       "      <th>is_retail</th>\n",
       "      <th>is_escuela</th>\n",
       "      <th>Baños_imp</th>\n",
       "      <th>Recámaras_imp</th>\n",
       "      <th>num_comercios_imp</th>\n",
       "      <th>is_consultorio_imp</th>\n",
       "      <th>is_recreativo_imp</th>\n",
       "      <th>is_retail_imp</th>\n",
       "      <th>is_escuela_imp</th>\n",
       "      <th>precio_m2</th>\n",
       "      <th>precio_m2_final</th>\n",
       "    </tr>\n",
       "  </thead>\n",
       "  <tbody>\n",
       "    <tr>\n",
       "      <th>0</th>\n",
       "      <td>renta departamento en roma norte</td>\n",
       "      <td>Av Chapultepec 322, Roma Norte, Ciudad De Méxi...</td>\n",
       "      <td>1</td>\n",
       "      <td>depto</td>\n",
       "      <td>renta</td>\n",
       "      <td>6.0</td>\n",
       "      <td>19.422992</td>\n",
       "      <td>-99.164232</td>\n",
       "      <td>2.0</td>\n",
       "      <td>1.0</td>\n",
       "      <td>2.0</td>\n",
       "      <td>85.0</td>\n",
       "      <td>85.0</td>\n",
       "      <td>1.0</td>\n",
       "      <td>17500.0</td>\n",
       "      <td>metros_cubicos</td>\n",
       "      <td>POINT (-99.1642322 19.4229918)</td>\n",
       "      <td>12624</td>\n",
       "      <td>0901500010998</td>\n",
       "      <td>9</td>\n",
       "      <td>15</td>\n",
       "      <td>1</td>\n",
       "      <td>0998</td>\n",
       "      <td>Urbana</td>\n",
       "      <td>1</td>\n",
       "      <td>605.0</td>\n",
       "      <td>17.0</td>\n",
       "      <td>106.0</td>\n",
       "      <td>256.0</td>\n",
       "      <td>12.0</td>\n",
       "      <td>2.0</td>\n",
       "      <td>2.0</td>\n",
       "      <td>605.0</td>\n",
       "      <td>17.0</td>\n",
       "      <td>106.0</td>\n",
       "      <td>256.0</td>\n",
       "      <td>12.0</td>\n",
       "      <td>35294.117647</td>\n",
       "      <td>35294.117647</td>\n",
       "    </tr>\n",
       "  </tbody>\n",
       "</table>\n",
       "</div>"
      ],
      "text/plain": [
       "                          main_name  \\\n",
       "0  renta departamento en roma norte   \n",
       "\n",
       "                                            location  id property_type  \\\n",
       "0  Av Chapultepec 322, Roma Norte, Ciudad De Méxi...   1         depto   \n",
       "\n",
       "  price_type  days_on_site        lat        lon  Baños  Estacionamientos  \\\n",
       "0      renta           6.0  19.422992 -99.164232    2.0               1.0   \n",
       "\n",
       "   Recámaras  m2_totales  m2_construidos  years  price_final          source  \\\n",
       "0        2.0        85.0            85.0    1.0      17500.0  metros_cubicos   \n",
       "\n",
       "                         geometry  index_right         CVEGEO  CVE_ENT  \\\n",
       "0  POINT (-99.1642322 19.4229918)        12624  0901500010998        9   \n",
       "\n",
       "   CVE_MUN  CVE_LOC CVE_AGEB  Ambito  new_id  num_comercios  is_consultorio  \\\n",
       "0       15        1     0998  Urbana       1          605.0            17.0   \n",
       "\n",
       "   is_recreativo  is_retail  is_escuela  Baños_imp  Recámaras_imp  \\\n",
       "0          106.0      256.0        12.0        2.0            2.0   \n",
       "\n",
       "   num_comercios_imp  is_consultorio_imp  is_recreativo_imp  is_retail_imp  \\\n",
       "0              605.0                17.0              106.0          256.0   \n",
       "\n",
       "   is_escuela_imp     precio_m2  precio_m2_final  \n",
       "0            12.0  35294.117647     35294.117647  "
      ]
     },
     "execution_count": 98,
     "metadata": {},
     "output_type": "execute_result"
    }
   ],
   "source": [
    "df.head(1)"
   ]
  },
  {
   "cell_type": "code",
   "execution_count": 99,
   "id": "53c8945f-46f7-4d12-9704-5e603e0894bb",
   "metadata": {},
   "outputs": [],
   "source": [
    "df = df[[#'property_type', \n",
    "         'price_type','lat', 'lon', \n",
    "         'years', \n",
    "         'CVEGEO', 'new_id', \n",
    "         'num_comercios_imp', 'is_consultorio_imp',\n",
    "         'is_recreativo_imp', 'is_retail_imp', 'is_escuela_imp', \n",
    "    #'is_depto', \n",
    "         'Baños_imp',\n",
    "         'Recámaras_imp',  'precio_m2_final']]"
   ]
  },
  {
   "cell_type": "code",
   "execution_count": 100,
   "id": "03909c57-7b27-4485-8a8a-b6872c8647dc",
   "metadata": {},
   "outputs": [
    {
     "data": {
      "text/html": [
       "<div>\n",
       "<style scoped>\n",
       "    .dataframe tbody tr th:only-of-type {\n",
       "        vertical-align: middle;\n",
       "    }\n",
       "\n",
       "    .dataframe tbody tr th {\n",
       "        vertical-align: top;\n",
       "    }\n",
       "\n",
       "    .dataframe thead th {\n",
       "        text-align: right;\n",
       "    }\n",
       "</style>\n",
       "<table border=\"1\" class=\"dataframe\">\n",
       "  <thead>\n",
       "    <tr style=\"text-align: right;\">\n",
       "      <th></th>\n",
       "      <th>years</th>\n",
       "      <th>precio_m2_final</th>\n",
       "    </tr>\n",
       "  </thead>\n",
       "  <tbody>\n",
       "    <tr>\n",
       "      <th>years</th>\n",
       "      <td>1.000000</td>\n",
       "      <td>-0.050947</td>\n",
       "    </tr>\n",
       "    <tr>\n",
       "      <th>precio_m2_final</th>\n",
       "      <td>-0.050947</td>\n",
       "      <td>1.000000</td>\n",
       "    </tr>\n",
       "  </tbody>\n",
       "</table>\n",
       "</div>"
      ],
      "text/plain": [
       "                    years  precio_m2_final\n",
       "years            1.000000        -0.050947\n",
       "precio_m2_final -0.050947         1.000000"
      ]
     },
     "execution_count": 100,
     "metadata": {},
     "output_type": "execute_result"
    }
   ],
   "source": [
    "#Explorar años\n",
    "df[['years', 'precio_m2_final']].corr()"
   ]
  },
  {
   "cell_type": "code",
   "execution_count": 101,
   "id": "5ac152e8-0578-4bd3-a29b-b0c844394215",
   "metadata": {},
   "outputs": [],
   "source": [
    "# variable de ageb\n",
    "ageb_stats = df.groupby('CVEGEO').agg({'precio_m2_final':'describe',\n",
    "                                         \n",
    "                                        }).reset_index()"
   ]
  },
  {
   "cell_type": "code",
   "execution_count": 102,
   "id": "70035bf6-b61c-432e-97e2-4cae0f4fd45b",
   "metadata": {},
   "outputs": [],
   "source": [
    "ageb_stats.columns = ageb_stats.columns.map('_'.join).str.strip('_')"
   ]
  },
  {
   "cell_type": "code",
   "execution_count": 103,
   "id": "111477e6-97d6-4df7-a090-5a1492f2748e",
   "metadata": {},
   "outputs": [
    {
     "data": {
      "text/html": [
       "<div>\n",
       "<style scoped>\n",
       "    .dataframe tbody tr th:only-of-type {\n",
       "        vertical-align: middle;\n",
       "    }\n",
       "\n",
       "    .dataframe tbody tr th {\n",
       "        vertical-align: top;\n",
       "    }\n",
       "\n",
       "    .dataframe thead th {\n",
       "        text-align: right;\n",
       "    }\n",
       "</style>\n",
       "<table border=\"1\" class=\"dataframe\">\n",
       "  <thead>\n",
       "    <tr style=\"text-align: right;\">\n",
       "      <th></th>\n",
       "      <th>CVEGEO</th>\n",
       "      <th>precio_m2_final_count</th>\n",
       "      <th>precio_m2_final_mean</th>\n",
       "      <th>precio_m2_final_std</th>\n",
       "      <th>precio_m2_final_min</th>\n",
       "      <th>precio_m2_final_25%</th>\n",
       "      <th>precio_m2_final_50%</th>\n",
       "      <th>precio_m2_final_75%</th>\n",
       "      <th>precio_m2_final_max</th>\n",
       "    </tr>\n",
       "  </thead>\n",
       "  <tbody>\n",
       "    <tr>\n",
       "      <th>0</th>\n",
       "      <td>0900300011410</td>\n",
       "      <td>1.0</td>\n",
       "      <td>57000.0</td>\n",
       "      <td>NaN</td>\n",
       "      <td>57000.0</td>\n",
       "      <td>57000.0</td>\n",
       "      <td>57000.0</td>\n",
       "      <td>57000.0</td>\n",
       "      <td>57000.0</td>\n",
       "    </tr>\n",
       "  </tbody>\n",
       "</table>\n",
       "</div>"
      ],
      "text/plain": [
       "          CVEGEO  precio_m2_final_count  precio_m2_final_mean  \\\n",
       "0  0900300011410                    1.0               57000.0   \n",
       "\n",
       "   precio_m2_final_std  precio_m2_final_min  precio_m2_final_25%  \\\n",
       "0                  NaN              57000.0              57000.0   \n",
       "\n",
       "   precio_m2_final_50%  precio_m2_final_75%  precio_m2_final_max  \n",
       "0              57000.0              57000.0              57000.0  "
      ]
     },
     "execution_count": 103,
     "metadata": {},
     "output_type": "execute_result"
    }
   ],
   "source": [
    "ageb_stats.head(1)"
   ]
  },
  {
   "cell_type": "code",
   "execution_count": 104,
   "id": "74845670-2263-4704-b1d5-6a57f403a18c",
   "metadata": {},
   "outputs": [],
   "source": [
    "ageb_stats = ageb_stats[['CVEGEO', 'precio_m2_final_25%',\n",
    "                         'precio_m2_final_50%', 'precio_m2_final_75%'\n",
    "                        ]]"
   ]
  },
  {
   "cell_type": "code",
   "execution_count": 105,
   "id": "3d2621bc-32f7-4d97-a955-b443af4d8f8c",
   "metadata": {},
   "outputs": [],
   "source": [
    "ageb_stats = ageb_stats.rename(columns={'precio_m2_final_25%':'ageb_precio_m2_25_pct',\n",
    "                                        'precio_m2_final_50%':'ageb_precio_m2_50_pct',\n",
    "                                        'precio_m2_final_75%':'ageb_precio_m2_75_pct',\n",
    "                                       })"
   ]
  },
  {
   "cell_type": "code",
   "execution_count": 106,
   "id": "8f268d14-5a8f-41c7-9e2b-8fb893d56ade",
   "metadata": {},
   "outputs": [],
   "source": [
    "ageb_stats.to_csv('../data/features/ageb_stats.csv', index=False)"
   ]
  },
  {
   "cell_type": "code",
   "execution_count": 107,
   "id": "0948a949-7c7d-4da9-b220-c5d6065a977c",
   "metadata": {},
   "outputs": [],
   "source": [
    "# Puntos cercanos por lat lon"
   ]
  },
  {
   "cell_type": "code",
   "execution_count": 108,
   "id": "01d0e054-fd1a-4182-8180-8b1e6b32c944",
   "metadata": {},
   "outputs": [],
   "source": [
    "ids = df.new_id.unique().tolist()"
   ]
  },
  {
   "cell_type": "code",
   "execution_count": 109,
   "id": "3ac13e02-4a0c-4779-a58c-7a544076112a",
   "metadata": {},
   "outputs": [],
   "source": [
    "import geopy.distance as dist"
   ]
  },
  {
   "cell_type": "code",
   "execution_count": 141,
   "id": "337acfd4-4c91-42e4-b00b-695e85e96144",
   "metadata": {},
   "outputs": [
    {
     "name": "stdout",
     "output_type": "stream",
     "text": [
      "CPU times: user 3min 9s, sys: 548 ms, total: 3min 9s\n",
      "Wall time: 3min 10s\n"
     ]
    }
   ],
   "source": [
    "%%time\n",
    "for id_ in ids:\n",
    "    reference = df[df.new_id==id_]\n",
    "    temp = df[df.new_id!=id_]\n",
    "    temp = temp.copy()\n",
    "    \n",
    "    coords_1 = (reference.lat.values[0], reference.lon.values[0])\n",
    "    parque = (19.412308, -99.169403)\n",
    "    fuente = (19.4190192,-99.164285)\n",
    "    \n",
    "    temp['coord_tuple'] = list(zip(temp.lat, temp.lon))\n",
    "    distances = []\n",
    "    for i in temp['coord_tuple']:\n",
    "        distance = dist.distance(coords_1, i).km * 1000\n",
    "        distances.append(distance)\n",
    "        \n",
    "    temp['distance'] = distances\n",
    "    temp = temp.sort_values('distance')\n",
    "    temp = temp.head(10)\n",
    "    \n",
    "    df.loc[df.new_id==id_, 'nearest_50_pct_price'] = temp.precio_m2_final.median()\n",
    "    df.loc[df.new_id==id_, 'nearest_75_pct_price'] = temp.precio_m2_final.quantile(.75)\n",
    "    df.loc[df.new_id==id_, 'nearest_25_pct_price'] = temp.precio_m2_final.quantile(.25)\n",
    "    df.loc[df.new_id==id_, 'nearest_std_price'] = temp.precio_m2_final.std()\n",
    "    \n",
    "    df.loc[df.new_id==id_, 'distance_parque'] = dist.distance(coords_1, parque).km * 1000\n",
    "    df.loc[df.new_id==id_, 'distance_fuente'] = dist.distance(coords_1, fuente).km * 1000"
   ]
  },
  {
   "cell_type": "code",
   "execution_count": 142,
   "id": "e6b93673-c0fe-490a-854e-cacb6fc62184",
   "metadata": {},
   "outputs": [],
   "source": [
    "# Unir con precio por ageb"
   ]
  },
  {
   "cell_type": "code",
   "execution_count": 143,
   "id": "bd9a382c-9f91-4490-b49e-c6ba2b77320f",
   "metadata": {},
   "outputs": [
    {
     "data": {
      "text/plain": [
       "1316"
      ]
     },
     "execution_count": 143,
     "metadata": {},
     "output_type": "execute_result"
    }
   ],
   "source": [
    "len(df)"
   ]
  },
  {
   "cell_type": "code",
   "execution_count": 144,
   "id": "7ecf68b6-b743-4b46-870f-34c1d6748e8b",
   "metadata": {},
   "outputs": [],
   "source": [
    "feature_set = df.merge(ageb_stats, how='left', on='CVEGEO')"
   ]
  },
  {
   "cell_type": "code",
   "execution_count": 145,
   "id": "7f0fde00-be17-480e-aa92-6395946bb8c8",
   "metadata": {},
   "outputs": [
    {
     "data": {
      "text/plain": [
       "1316"
      ]
     },
     "execution_count": 145,
     "metadata": {},
     "output_type": "execute_result"
    }
   ],
   "source": [
    "len(feature_set)"
   ]
  },
  {
   "cell_type": "code",
   "execution_count": 146,
   "id": "55e83c11-d5db-4faa-8604-a8efa401e5bd",
   "metadata": {},
   "outputs": [],
   "source": [
    "feature_set.to_csv('../data/features/feature_set_v2.csv', index=False)"
   ]
  },
  {
   "cell_type": "code",
   "execution_count": 151,
   "id": "1a298a88-d89d-4e99-89d5-d55a94185e0d",
   "metadata": {},
   "outputs": [],
   "source": [
    "import seaborn as sns\n",
    "import matplotlib.pyplot as plt"
   ]
  },
  {
   "cell_type": "code",
   "execution_count": 152,
   "id": "2b137ccd-87b0-4044-83ef-566a8b7e5482",
   "metadata": {},
   "outputs": [
    {
     "data": {
      "image/png": "[encoded data removed]",
      "text/plain": [
       "<Figure size 432x288 with 1 Axes>"
      ]
     },
     "metadata": {
      "needs_background": "light"
     },
     "output_type": "display_data"
    }
   ],
   "source": [
    "ax = sns.histplot(feature_set.precio_m2_final)\n",
    "plt.title('Distribución del precio por metro cuadrado')\n",
    "plt.show()"
   ]
  },
  {
   "cell_type": "code",
   "execution_count": null,
   "id": "473e302f-bac8-4e87-93f4-57b6d030a9f3",
   "metadata": {},
   "outputs": [],
   "source": []
  }
 ],
 "metadata": {
  "kernelspec": {
   "display_name": "py39",
   "language": "python",
   "name": "py39"
  },
  "language_info": {
   "codemirror_mode": {
    "name": "ipython",
    "version": 3
   },
   "file_extension": ".py",
   "mimetype": "text/x-python",
   "name": "python",
   "nbconvert_exporter": "python",
   "pygments_lexer": "ipython3",
   "version": "3.9.7"
  }
 },
 "nbformat": 4,
 "nbformat_minor": 5
}
